{
 "cells": [
  {
   "cell_type": "code",
   "execution_count": 1,
   "metadata": {},
   "outputs": [],
   "source": [
    "import pandas as pd\n",
    "import numpy as np\n",
    "import matplotlib.pyplot as plt\n",
    "from sklearn import model_selection\n",
    "from sklearn.preprocessing import scale\n",
    "from sklearn.neural_network import MLPClassifier\n",
    "from sklearn.metrics import classification_report,confusion_matrix\n",
    "from sklearn.model_selection import GridSearchCV"
   ]
  },
  {
   "cell_type": "markdown",
   "metadata": {},
   "source": [
    "# Step 1: Get a rough result first"
   ]
  },
  {
   "cell_type": "code",
   "execution_count": 2,
   "metadata": {},
   "outputs": [],
   "source": [
    "data = pd.read_csv('session8_homework.csv',index_col='clientid')\n",
    "\n",
    "X = np.array(data[['age','LTI']])\n",
    "y = np.array(data.iloc[:,-1])"
   ]
  },
  {
   "cell_type": "code",
   "execution_count": 3,
   "metadata": {},
   "outputs": [],
   "source": [
    "# split the data into train and test\n",
    "X_train, X_test, y_train, y_test = model_selection.train_test_split(X, y, test_size=0.3, random_state=42)"
   ]
  },
  {
   "cell_type": "code",
   "execution_count": 4,
   "metadata": {},
   "outputs": [],
   "source": [
    "clf = MLPClassifier(solver='lbfgs', activation='logistic', learning_rate_init=0.001, alpha=1e-5, hidden_layer_sizes=(4, 1), random_state=1)\n",
    "clf.fit(X_train, y_train)\n",
    "\n",
    "y_pred = clf.predict(X_test)"
   ]
  },
  {
   "cell_type": "code",
   "execution_count": 5,
   "metadata": {},
   "outputs": [
    {
     "name": "stdout",
     "output_type": "stream",
     "text": [
      "[[494  14]\n",
      " [ 13  79]]\n"
     ]
    }
   ],
   "source": [
    "print(confusion_matrix(y_test,y_pred,labels=[0,1]))"
   ]
  },
  {
   "cell_type": "code",
   "execution_count": 6,
   "metadata": {},
   "outputs": [
    {
     "name": "stdout",
     "output_type": "stream",
     "text": [
      "             precision    recall  f1-score   support\n",
      "\n",
      "          0     0.9744    0.9724    0.9734       508\n",
      "          1     0.8495    0.8587    0.8541        92\n",
      "\n",
      "avg / total     0.9552    0.9550    0.9551       600\n",
      "\n"
     ]
    }
   ],
   "source": [
    "print(classification_report(y_test,y_pred,digits=4))"
   ]
  },
  {
   "cell_type": "markdown",
   "metadata": {},
   "source": [
    "### If we standardize the data first, check out if the result would be different."
   ]
  },
  {
   "cell_type": "code",
   "execution_count": 7,
   "metadata": {},
   "outputs": [],
   "source": [
    "X_train = scale(X_train)\n",
    "X_test = scale(X_test)"
   ]
  },
  {
   "cell_type": "code",
   "execution_count": 8,
   "metadata": {},
   "outputs": [],
   "source": [
    "clf = MLPClassifier(solver='lbfgs', activation='logistic', learning_rate_init=0.001, alpha=1e-5, hidden_layer_sizes=(4, 1), random_state=1)\n",
    "clf.fit(X_train, y_train)\n",
    "\n",
    "y_pred = clf.predict(X_test)"
   ]
  },
  {
   "cell_type": "code",
   "execution_count": 9,
   "metadata": {},
   "outputs": [
    {
     "name": "stdout",
     "output_type": "stream",
     "text": [
      "[[508   0]\n",
      " [  6  86]]\n"
     ]
    }
   ],
   "source": [
    "print(confusion_matrix(y_test,y_pred,labels=[0,1]))"
   ]
  },
  {
   "cell_type": "code",
   "execution_count": 10,
   "metadata": {},
   "outputs": [
    {
     "name": "stdout",
     "output_type": "stream",
     "text": [
      "             precision    recall  f1-score   support\n",
      "\n",
      "          0     0.9883    1.0000    0.9941       508\n",
      "          1     1.0000    0.9348    0.9663        92\n",
      "\n",
      "avg / total     0.9901    0.9900    0.9899       600\n",
      "\n"
     ]
    }
   ],
   "source": [
    "print(classification_report(y_test,y_pred,digits=4))"
   ]
  },
  {
   "cell_type": "markdown",
   "metadata": {},
   "source": [
    "### We can see the result improves a lot. Accuracy improves from 95.52% to 99.01%"
   ]
  },
  {
   "cell_type": "markdown",
   "metadata": {},
   "source": [
    "# Step 2: Use grid search to find possible 'best' parameters"
   ]
  },
  {
   "cell_type": "code",
   "execution_count": 11,
   "metadata": {
    "scrolled": false
   },
   "outputs": [
    {
     "name": "stdout",
     "output_type": "stream",
     "text": [
      "# Tuning hyper-parameters\n",
      "\n"
     ]
    },
    {
     "name": "stderr",
     "output_type": "stream",
     "text": [
      "D:\\Anaconda3\\lib\\site-packages\\sklearn\\neural_network\\multilayer_perceptron.py:564: ConvergenceWarning: Stochastic Optimizer: Maximum iterations (200) reached and the optimization hasn't converged yet.\n",
      "  % self.max_iter, ConvergenceWarning)\n",
      "D:\\Anaconda3\\lib\\site-packages\\sklearn\\neural_network\\multilayer_perceptron.py:564: ConvergenceWarning: Stochastic Optimizer: Maximum iterations (200) reached and the optimization hasn't converged yet.\n",
      "  % self.max_iter, ConvergenceWarning)\n",
      "D:\\Anaconda3\\lib\\site-packages\\sklearn\\neural_network\\multilayer_perceptron.py:564: ConvergenceWarning: Stochastic Optimizer: Maximum iterations (200) reached and the optimization hasn't converged yet.\n",
      "  % self.max_iter, ConvergenceWarning)\n",
      "D:\\Anaconda3\\lib\\site-packages\\sklearn\\neural_network\\multilayer_perceptron.py:564: ConvergenceWarning: Stochastic Optimizer: Maximum iterations (200) reached and the optimization hasn't converged yet.\n",
      "  % self.max_iter, ConvergenceWarning)\n",
      "D:\\Anaconda3\\lib\\site-packages\\sklearn\\neural_network\\multilayer_perceptron.py:564: ConvergenceWarning: Stochastic Optimizer: Maximum iterations (200) reached and the optimization hasn't converged yet.\n",
      "  % self.max_iter, ConvergenceWarning)\n",
      "D:\\Anaconda3\\lib\\site-packages\\sklearn\\neural_network\\multilayer_perceptron.py:564: ConvergenceWarning: Stochastic Optimizer: Maximum iterations (200) reached and the optimization hasn't converged yet.\n",
      "  % self.max_iter, ConvergenceWarning)\n",
      "D:\\Anaconda3\\lib\\site-packages\\sklearn\\neural_network\\multilayer_perceptron.py:564: ConvergenceWarning: Stochastic Optimizer: Maximum iterations (200) reached and the optimization hasn't converged yet.\n",
      "  % self.max_iter, ConvergenceWarning)\n",
      "D:\\Anaconda3\\lib\\site-packages\\sklearn\\neural_network\\multilayer_perceptron.py:564: ConvergenceWarning: Stochastic Optimizer: Maximum iterations (200) reached and the optimization hasn't converged yet.\n",
      "  % self.max_iter, ConvergenceWarning)\n",
      "D:\\Anaconda3\\lib\\site-packages\\sklearn\\neural_network\\multilayer_perceptron.py:564: ConvergenceWarning: Stochastic Optimizer: Maximum iterations (200) reached and the optimization hasn't converged yet.\n",
      "  % self.max_iter, ConvergenceWarning)\n",
      "D:\\Anaconda3\\lib\\site-packages\\sklearn\\neural_network\\multilayer_perceptron.py:564: ConvergenceWarning: Stochastic Optimizer: Maximum iterations (200) reached and the optimization hasn't converged yet.\n",
      "  % self.max_iter, ConvergenceWarning)\n",
      "D:\\Anaconda3\\lib\\site-packages\\sklearn\\neural_network\\multilayer_perceptron.py:564: ConvergenceWarning: Stochastic Optimizer: Maximum iterations (200) reached and the optimization hasn't converged yet.\n",
      "  % self.max_iter, ConvergenceWarning)\n",
      "D:\\Anaconda3\\lib\\site-packages\\sklearn\\neural_network\\multilayer_perceptron.py:564: ConvergenceWarning: Stochastic Optimizer: Maximum iterations (200) reached and the optimization hasn't converged yet.\n",
      "  % self.max_iter, ConvergenceWarning)\n",
      "D:\\Anaconda3\\lib\\site-packages\\sklearn\\neural_network\\multilayer_perceptron.py:564: ConvergenceWarning: Stochastic Optimizer: Maximum iterations (200) reached and the optimization hasn't converged yet.\n",
      "  % self.max_iter, ConvergenceWarning)\n",
      "D:\\Anaconda3\\lib\\site-packages\\sklearn\\neural_network\\multilayer_perceptron.py:564: ConvergenceWarning: Stochastic Optimizer: Maximum iterations (200) reached and the optimization hasn't converged yet.\n",
      "  % self.max_iter, ConvergenceWarning)\n",
      "D:\\Anaconda3\\lib\\site-packages\\sklearn\\neural_network\\multilayer_perceptron.py:564: ConvergenceWarning: Stochastic Optimizer: Maximum iterations (200) reached and the optimization hasn't converged yet.\n",
      "  % self.max_iter, ConvergenceWarning)\n"
     ]
    },
    {
     "name": "stdout",
     "output_type": "stream",
     "text": [
      "Best parameters set found on development set:\n",
      "\n",
      "{'activation': 'logistic', 'hidden_layer_sizes': (4, 1), 'random_state': 1, 'solver': 'lbfgs'}\n",
      "\n",
      "Grid scores on training set:\n",
      "\n",
      "0.998 (+/-0.003) for {'activation': 'logistic', 'hidden_layer_sizes': (4, 1), 'random_state': 1, 'solver': 'lbfgs'}\n",
      "0.864 (+/-0.002) for {'activation': 'logistic', 'hidden_layer_sizes': (4, 1), 'random_state': 1, 'solver': 'sgd'}\n",
      "0.864 (+/-0.002) for {'activation': 'logistic', 'hidden_layer_sizes': (4, 1), 'random_state': 1, 'solver': 'adam'}\n",
      "0.997 (+/-0.005) for {'activation': 'tanh', 'hidden_layer_sizes': (4, 1), 'random_state': 1, 'solver': 'lbfgs'}\n",
      "0.864 (+/-0.002) for {'activation': 'tanh', 'hidden_layer_sizes': (4, 1), 'random_state': 1, 'solver': 'sgd'}\n",
      "0.864 (+/-0.002) for {'activation': 'tanh', 'hidden_layer_sizes': (4, 1), 'random_state': 1, 'solver': 'adam'}\n",
      "0.997 (+/-0.005) for {'activation': 'relu', 'hidden_layer_sizes': (4, 1), 'random_state': 1, 'solver': 'lbfgs'}\n",
      "0.864 (+/-0.002) for {'activation': 'relu', 'hidden_layer_sizes': (4, 1), 'random_state': 1, 'solver': 'sgd'}\n",
      "0.864 (+/-0.002) for {'activation': 'relu', 'hidden_layer_sizes': (4, 1), 'random_state': 1, 'solver': 'adam'}\n",
      "\n"
     ]
    }
   ],
   "source": [
    "# Set the parameters by cross-validation\n",
    "parameters = [{'solver': ['lbfgs', 'sgd', 'adam'],\n",
    "               'activation': ['logistic', 'tanh', 'relu'],\n",
    "               'hidden_layer_sizes': [(4, 1)],\n",
    "               'random_state': [1]}]\n",
    "\n",
    "print(\"# Tuning hyper-parameters\")\n",
    "print()\n",
    "\n",
    "clf = GridSearchCV(MLPClassifier(), parameters, cv=5)\n",
    "clf.fit(X_train, y_train)\n",
    "\n",
    "print(\"Best parameters set found on development set:\")\n",
    "print()\n",
    "print(clf.best_params_)\n",
    "print()\n",
    "print(\"Grid scores on training set:\")\n",
    "print()\n",
    "means = clf.cv_results_['mean_test_score']\n",
    "stds = clf.cv_results_['std_test_score']\n",
    "for mean, std, params in zip(means, stds, clf.cv_results_['params']):\n",
    "    print(\"%0.3f (+/-%0.03f) for %r\"\n",
    "          % (mean, std * 2, params))\n",
    "print()"
   ]
  },
  {
   "cell_type": "markdown",
   "metadata": {},
   "source": [
    "### We can see that the best parameters are the same with before. And sgd solver doesn't converge well in this case.\n",
    "\n",
    "### There's a usdeful note in the documentation of sklearn.neural_network.MLPClassifier. \n",
    "\n",
    "### Quoted:The default solver ‘adam’ works pretty well on relatively large datasets (with thousands of training samples or more) in terms of both training time and validation score. For small datasets, however, ‘lbfgs’ can converge faster and perform better."
   ]
  },
  {
   "cell_type": "code",
   "execution_count": null,
   "metadata": {},
   "outputs": [],
   "source": []
  },
  {
   "cell_type": "code",
   "execution_count": 12,
   "metadata": {},
   "outputs": [],
   "source": [
    "clf = MLPClassifier(solver='lbfgs', activation='logistic', learning_rate_init=0.001, alpha=1e-5, hidden_layer_sizes=(4, 1), random_state=1)\n",
    "clf.fit(X_train, y_train)\n",
    "y_pred = clf.predict(X_test)"
   ]
  },
  {
   "cell_type": "code",
   "execution_count": 13,
   "metadata": {},
   "outputs": [
    {
     "name": "stdout",
     "output_type": "stream",
     "text": [
      "[[508   0]\n",
      " [  6  86]]\n"
     ]
    }
   ],
   "source": [
    "print(confusion_matrix(y_test,y_pred,labels=[0,1]))"
   ]
  },
  {
   "cell_type": "code",
   "execution_count": 14,
   "metadata": {},
   "outputs": [
    {
     "name": "stdout",
     "output_type": "stream",
     "text": [
      "             precision    recall  f1-score   support\n",
      "\n",
      "          0     0.9883    1.0000    0.9941       508\n",
      "          1     1.0000    0.9348    0.9663        92\n",
      "\n",
      "avg / total     0.9901    0.9900    0.9899       600\n",
      "\n"
     ]
    }
   ],
   "source": [
    "print(classification_report(y_test,y_pred,digits=4))"
   ]
  },
  {
   "cell_type": "markdown",
   "metadata": {},
   "source": [
    "# Step 3: Plot"
   ]
  },
  {
   "cell_type": "markdown",
   "metadata": {},
   "source": [
    "### Copied from online resources"
   ]
  },
  {
   "cell_type": "code",
   "execution_count": 15,
   "metadata": {},
   "outputs": [],
   "source": [
    "def draw_neural_net(ax, left, right, bottom, top, layer_sizes,\n",
    "coefs_, \n",
    "intercepts_,\n",
    "n_iter_, \n",
    "loss_, \n",
    "np, plt):\n",
    "    n_layers = len(layer_sizes)\n",
    "    v_spacing = (top - bottom)/float(max(layer_sizes))\n",
    "    h_spacing = (right - left)/float(len(layer_sizes) - 1)\n",
    "    # Input-Arrows\n",
    "    layer_top_0 = v_spacing*(layer_sizes[0] - 1)/2. + (top + bottom)/2.\n",
    "    for m in range(layer_sizes[0]):\n",
    "        plt.arrow(left-0.18, layer_top_0 - m*v_spacing, 0.12, 0,  lw =1, head_width=0.01, head_length=0.02)\n",
    "    # Nodes\n",
    "    for n, layer_size in enumerate(layer_sizes):\n",
    "        layer_top = v_spacing*(layer_size - 1)/2. + (top + bottom)/2.\n",
    "        for m in range(layer_size):\n",
    "            circle = plt.Circle((n*h_spacing + left, layer_top - m*v_spacing), v_spacing/8.,\\\n",
    "                            color='w', ec='k', zorder=4)\n",
    "            if n == 0:\n",
    "                plt.text(left-0.125, layer_top - m*v_spacing, r'$X_{'+str(m+1)+'}$', fontsize=15)\n",
    "            elif (n_layers == 3) & (n == 1):\n",
    "                plt.text(n*h_spacing + left+0.00, layer_top - m*v_spacing+ (v_spacing/8.+0.01*v_spacing), r'$H_{'+str(m+1)+'}$', fontsize=15)\n",
    "            elif n == n_layers -1:\n",
    "                plt.text(n*h_spacing + left+0.10, layer_top - m*v_spacing, r'$y_{'+str(m+1)+'}$', fontsize=15)\n",
    "            ax.add_artist(circle)#\n",
    "    # Bias-Nodes\n",
    "    for n, layer_size in enumerate(layer_sizes):\n",
    "        if n < n_layers -1:\n",
    "            x_bias = (n+0.5)*h_spacing + left\n",
    "            y_bias = top + 0.005\n",
    "            circle = plt.Circle((x_bias, y_bias), v_spacing/8.,\\\n",
    "                            color='w', ec='k', zorder=4)\n",
    "            plt.text(x_bias-(v_spacing/8.+0.10*v_spacing+0.01), y_bias, r'$1$', fontsize=15)\n",
    "            ax.add_artist(circle)   \n",
    "    for n, (layer_size_a, layer_size_b) in enumerate(zip(layer_sizes[:-1], layer_sizes[1:])):\n",
    "        layer_top_a = v_spacing*(layer_size_a - 1)/2. + (top + bottom)/2.\n",
    "        layer_top_b = v_spacing*(layer_size_b - 1)/2. + (top + bottom)/2.\n",
    "        for m in range(layer_size_a):\n",
    "            print(m)\n",
    "            for o in range(layer_size_b):\n",
    "                line = plt.Line2D([n*h_spacing + left, (n + 1)*h_spacing + left],\n",
    "                              [layer_top_a - m*v_spacing, layer_top_b - o*v_spacing], c='k')\n",
    "                ax.add_artist(line)\n",
    "                xm = (n*h_spacing + left)\n",
    "                xo = ((n + 1)*h_spacing + left)\n",
    "                ym = (layer_top_a - m*v_spacing)\n",
    "                yo = (layer_top_b - o*v_spacing)\n",
    "                rot_mo_rad = np.arctan((yo-ym)/(xo-xm))\n",
    "                rot_mo_deg = rot_mo_rad*180./np.pi\n",
    "                xm1 = xm + (v_spacing/8.+0.05)*np.cos(rot_mo_rad)\n",
    "                if n == 0:\n",
    "                    if yo > ym:\n",
    "                        ym1 = ym + (v_spacing/8.+0.12)*np.sin(rot_mo_rad)\n",
    "                    else:\n",
    "                        ym1 = ym + (v_spacing/8.+0.05)*np.sin(rot_mo_rad)\n",
    "                else:\n",
    "                    if yo > ym:\n",
    "                        ym1 = ym + (v_spacing/8.+0.12)*np.sin(rot_mo_rad)\n",
    "                    else:\n",
    "                        ym1 = ym + (v_spacing/8.+0.04)*np.sin(rot_mo_rad)\n",
    "                plt.text( xm1, ym1,\\\n",
    "                     str(round(coefs_[n][m, o],4)),\\\n",
    "                     rotation = rot_mo_deg, \\\n",
    "                     fontsize = 10)\n",
    "    for n, (layer_size_a, layer_size_b) in enumerate(zip(layer_sizes[:-1], layer_sizes[1:])):\n",
    "        if n < n_layers-1:\n",
    "            layer_top_a = v_spacing*(layer_size_a - 1)/2. + (top + bottom)/2.\n",
    "            layer_top_b = v_spacing*(layer_size_b - 1)/2. + (top + bottom)/2.\n",
    "            x_bias = (n+0.5)*h_spacing + left\n",
    "            y_bias = top + 0.005 \n",
    "            for o in range(layer_size_b):\n",
    "                print(o)\n",
    "                line = plt.Line2D([x_bias, (n + 1)*h_spacing + left],\n",
    "                          [y_bias, layer_top_b - o*v_spacing], c='k')\n",
    "                ax.add_artist(line)\n",
    "                xo = ((n + 1)*h_spacing + left)\n",
    "                yo = (layer_top_b - o*v_spacing)\n",
    "                rot_bo_rad = np.arctan((yo-y_bias)/(xo-x_bias))\n",
    "                rot_bo_deg = rot_bo_rad*180./np.pi\n",
    "                xo2 = xo - (v_spacing/8.+0.01)*np.cos(rot_bo_rad)\n",
    "                yo2 = yo - (v_spacing/8.+0.01)*np.sin(rot_bo_rad)\n",
    "                xo1 = xo2 -0.05 *np.cos(rot_bo_rad)\n",
    "                yo1 = yo2 -0.05 *np.sin(rot_bo_rad)\n",
    "                plt.text( xo1, yo1,\\\n",
    "                str(round(intercepts_[n][o],4)),\\\n",
    "                 rotation = rot_bo_deg, \\\n",
    "                 fontsize = 10) "
   ]
  },
  {
   "cell_type": "code",
   "execution_count": 16,
   "metadata": {},
   "outputs": [
    {
     "name": "stdout",
     "output_type": "stream",
     "text": [
      "0\n",
      "1\n",
      "0\n",
      "1\n",
      "2\n",
      "3\n",
      "0\n",
      "1\n",
      "2\n",
      "3\n",
      "0\n"
     ]
    },
    {
     "data": {
      "image/png": "[encoded data removed]",
      "text/plain": [
       "<Figure size 864x864 with 1 Axes>"
      ]
     },
     "metadata": {},
     "output_type": "display_data"
    }
   ],
   "source": [
    "fig = plt.figure(figsize=(12, 12))\n",
    "ax = fig.gca()\n",
    "ax.axis('off')\n",
    "\n",
    "draw_neural_net(ax, .1, .9, .1, .9, [2, 4, 1], clf.coefs_, clf.intercepts_, clf.n_iter_, clf.loss_,np, plt)"
   ]
  },
  {
   "cell_type": "code",
   "execution_count": null,
   "metadata": {},
   "outputs": [],
   "source": []
  },
  {
   "cell_type": "code",
   "execution_count": null,
   "metadata": {},
   "outputs": [],
   "source": []
  },
  {
   "cell_type": "code",
   "execution_count": null,
   "metadata": {},
   "outputs": [],
   "source": []
  },
  {
   "cell_type": "code",
   "execution_count": null,
   "metadata": {},
   "outputs": [],
   "source": []
  },
  {
   "cell_type": "code",
   "execution_count": null,
   "metadata": {},
   "outputs": [],
   "source": []
  },
  {
   "cell_type": "code",
   "execution_count": null,
   "metadata": {},
   "outputs": [],
   "source": []
  },
  {
   "cell_type": "code",
   "execution_count": null,
   "metadata": {},
   "outputs": [],
   "source": []
  },
  {
   "cell_type": "code",
   "execution_count": null,
   "metadata": {},
   "outputs": [],
   "source": []
  },
  {
   "cell_type": "code",
   "execution_count": null,
   "metadata": {},
   "outputs": [],
   "source": []
  },
  {
   "cell_type": "code",
   "execution_count": null,
   "metadata": {},
   "outputs": [],
   "source": []
  },
  {
   "cell_type": "code",
   "execution_count": null,
   "metadata": {},
   "outputs": [],
   "source": []
  }
 ],
 "metadata": {
  "kernelspec": {
   "display_name": "Python 3",
   "language": "python",
   "name": "python3"
  },
  "language_info": {
   "codemirror_mode": {
    "name": "ipython",
    "version": 3
   },
   "file_extension": ".py",
   "mimetype": "text/x-python",
   "name": "python",
   "nbconvert_exporter": "python",
   "pygments_lexer": "ipython3",
   "version": "3.6.5"
  }
 },
 "nbformat": 4,
 "nbformat_minor": 2
}
