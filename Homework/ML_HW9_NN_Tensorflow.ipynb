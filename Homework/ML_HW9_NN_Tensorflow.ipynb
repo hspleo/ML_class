{
 "cells": [
  {
   "cell_type": "code",
   "execution_count": 1,
   "metadata": {},
   "outputs": [],
   "source": [
    "import pandas as pd\n",
    "import numpy as np\n",
    "%matplotlib inline\n",
    "import matplotlib.pyplot as plt\n",
    "import tensorflow as tf\n",
    "from sklearn import model_selection\n",
    "from sklearn.preprocessing import scale\n",
    "from sklearn.datasets import load_breast_cancer"
   ]
  },
  {
   "cell_type": "code",
   "execution_count": 2,
   "metadata": {},
   "outputs": [
    {
     "name": "stdout",
     "output_type": "stream",
     "text": [
      "['mean radius' 'mean texture' 'mean perimeter' 'mean area'\n",
      " 'mean smoothness' 'mean compactness' 'mean concavity'\n",
      " 'mean concave points' 'mean symmetry' 'mean fractal dimension'\n",
      " 'radius error' 'texture error' 'perimeter error' 'area error'\n",
      " 'smoothness error' 'compactness error' 'concavity error'\n",
      " 'concave points error' 'symmetry error' 'fractal dimension error'\n",
      " 'worst radius' 'worst texture' 'worst perimeter' 'worst area'\n",
      " 'worst smoothness' 'worst compactness' 'worst concavity'\n",
      " 'worst concave points' 'worst symmetry' 'worst fractal dimension']\n"
     ]
    }
   ],
   "source": [
    "data = load_breast_cancer()\n",
    "print(data.feature_names)"
   ]
  },
  {
   "cell_type": "code",
   "execution_count": 3,
   "metadata": {},
   "outputs": [
    {
     "name": "stdout",
     "output_type": "stream",
     "text": [
      "numver of inputs: 30\n"
     ]
    }
   ],
   "source": [
    "X = data.data\n",
    "Y = np.stack((data.target, ~data.target+2), axis=-1)\n",
    "n_inputs = X.shape[1]\n",
    "print('numver of inputs:',n_inputs)"
   ]
  },
  {
   "cell_type": "code",
   "execution_count": 4,
   "metadata": {},
   "outputs": [],
   "source": [
    "X_train, X_test, y_train, y_test = model_selection.train_test_split(X, Y, test_size=0.2, random_state=42)"
   ]
  },
  {
   "cell_type": "markdown",
   "metadata": {},
   "source": [
    "Scale the data first, but I didn't figure out how to normalize data in tensorflow..."
   ]
  },
  {
   "cell_type": "code",
   "execution_count": 5,
   "metadata": {},
   "outputs": [],
   "source": [
    "X_train = scale(X_train)\n",
    "X_test = scale(X_test)"
   ]
  },
  {
   "cell_type": "markdown",
   "metadata": {},
   "source": [
    "2 hidden layers of 5 and 10 units followed by a sigmoid activation function."
   ]
  },
  {
   "cell_type": "code",
   "execution_count": 6,
   "metadata": {},
   "outputs": [],
   "source": [
    "# hyperparametres\n",
    "learning_rate = 0.005 # learning rate of optimizer\n",
    "num_epochs = 1000\n",
    "display_step = 10\n",
    "trained_params_path = './ML_HW9'\n",
    "\n",
    "# network parametres\n",
    "n_hidden_1 = 5 # number of nodes in hidden layer 1\n",
    "n_hidden_2 = 10 # number of nodes in hidden layer 2\n",
    "n_inputs = X.shape[1] # number of inputs \n",
    "n_classes = Y.shape[1] # number of outputs\n",
    "\n",
    "X = tf.placeholder(tf.float32, [None, n_inputs]) # X is our features placeholder. We'll feed data during training time.\n",
    "y = tf.placeholder(tf.float32, [None, n_classes]) # y is our label placeholder. We'll feed data during training time.\n",
    "\n",
    "weights = {\n",
    "    'hidden1' : tf.Variable(tf.random_normal([n_inputs, n_hidden_1])), # weights of hidden layer 1\n",
    "    'hidden2' : tf.Variable(tf.random_normal([n_hidden_1, n_hidden_2])), # weights of hidden layer 2\n",
    "    'output' : tf.Variable(tf.random_normal([n_hidden_2, n_classes])) # weights of outpur layer\n",
    "}\n",
    "\n",
    "biases = {\n",
    "    'hidden1' : tf.Variable(tf.random_normal([n_hidden_1])), # biases of hidden layer 1\n",
    "    'hidden2' : tf.Variable(tf.random_normal([n_hidden_2])), # biases of hidden layer 2\n",
    "    'output' : tf.Variable(tf.random_normal([n_classes])) # biases of output layer\n",
    "}"
   ]
  },
  {
   "cell_type": "code",
   "execution_count": 7,
   "metadata": {},
   "outputs": [],
   "source": [
    "layer_1_prediction = tf.add(tf.matmul(X, weights['hidden1']), biases['hidden1']) # layer 1 predicton: y = mx + b\n",
    "layer_2_prediction = tf.add(tf.matmul(layer_1_prediction, weights['hidden2']), biases['hidden2']) # layer 2 prediction\n",
    "prediction = tf.add(tf.matmul(layer_2_prediction, weights['output']), biases['output']) # final/ output layer prediction\n",
    "output = tf.nn.softmax(prediction, name='output')"
   ]
  },
  {
   "cell_type": "code",
   "execution_count": 8,
   "metadata": {},
   "outputs": [],
   "source": [
    "# let's calculate the cost using softmax cross entropy with logits\n",
    "cost = tf.reduce_mean(tf.nn.softmax_cross_entropy_with_logits_v2(labels=y, logits=prediction)) \n",
    "# we'll use Adapoptimizer for our optimizer\n",
    "optimizer = tf.train.AdamOptimizer(learning_rate).minimize(cost)\n",
    "\n",
    "# calculate the correct prediction\n",
    "correct_pred = tf.equal(tf.argmax(prediction, 1), tf.argmax(y, 1))\n",
    "accuracy = tf.reduce_mean(tf.cast(correct_pred, tf.float32))\n",
    "\n",
    "# Initialize the variables (i.e. assign their default value)\n",
    "init = tf.global_variables_initializer()"
   ]
  },
  {
   "cell_type": "code",
   "execution_count": 9,
   "metadata": {},
   "outputs": [
    {
     "name": "stdout",
     "output_type": "stream",
     "text": [
      "Step 0, Loss= 5.9121, Training Accuracy= 0.782\n",
      "Step 1, Loss= 5.4756, Training Accuracy= 0.787\n",
      "Step 10, Loss= 2.6967, Training Accuracy= 0.842\n",
      "Step 20, Loss= 1.2182, Training Accuracy= 0.895\n",
      "Step 30, Loss= 0.5882, Training Accuracy= 0.930\n",
      "Step 40, Loss= 0.3638, Training Accuracy= 0.949\n",
      "Step 50, Loss= 0.2617, Training Accuracy= 0.960\n",
      "Step 60, Loss= 0.2200, Training Accuracy= 0.952\n",
      "Step 70, Loss= 0.1953, Training Accuracy= 0.963\n",
      "Step 80, Loss= 0.1747, Training Accuracy= 0.963\n",
      "Step 90, Loss= 0.1574, Training Accuracy= 0.969\n",
      "Step 100, Loss= 0.1430, Training Accuracy= 0.969\n",
      "Step 110, Loss= 0.1305, Training Accuracy= 0.969\n",
      "Step 120, Loss= 0.1198, Training Accuracy= 0.969\n",
      "Step 130, Loss= 0.1108, Training Accuracy= 0.974\n",
      "Step 140, Loss= 0.1032, Training Accuracy= 0.974\n",
      "Step 150, Loss= 0.0969, Training Accuracy= 0.974\n",
      "Step 160, Loss= 0.0916, Training Accuracy= 0.978\n",
      "Step 170, Loss= 0.0873, Training Accuracy= 0.976\n",
      "Step 180, Loss= 0.0836, Training Accuracy= 0.978\n",
      "Step 190, Loss= 0.0805, Training Accuracy= 0.980\n",
      "Step 200, Loss= 0.0779, Training Accuracy= 0.980\n",
      "Step 210, Loss= 0.0757, Training Accuracy= 0.980\n",
      "Step 220, Loss= 0.0738, Training Accuracy= 0.980\n",
      "Step 230, Loss= 0.0722, Training Accuracy= 0.982\n",
      "Step 240, Loss= 0.0707, Training Accuracy= 0.982\n",
      "Step 250, Loss= 0.0694, Training Accuracy= 0.982\n",
      "Step 260, Loss= 0.0683, Training Accuracy= 0.982\n",
      "Step 270, Loss= 0.0672, Training Accuracy= 0.982\n",
      "Step 280, Loss= 0.0662, Training Accuracy= 0.985\n",
      "Step 290, Loss= 0.0653, Training Accuracy= 0.985\n",
      "Step 300, Loss= 0.0644, Training Accuracy= 0.985\n",
      "Step 310, Loss= 0.0636, Training Accuracy= 0.985\n",
      "Step 320, Loss= 0.0628, Training Accuracy= 0.985\n",
      "Step 330, Loss= 0.0621, Training Accuracy= 0.985\n",
      "Step 340, Loss= 0.0613, Training Accuracy= 0.985\n",
      "Step 350, Loss= 0.0606, Training Accuracy= 0.985\n",
      "Step 360, Loss= 0.0599, Training Accuracy= 0.985\n",
      "Step 370, Loss= 0.0593, Training Accuracy= 0.985\n",
      "Step 380, Loss= 0.0586, Training Accuracy= 0.985\n",
      "Step 390, Loss= 0.0580, Training Accuracy= 0.987\n",
      "Step 400, Loss= 0.0574, Training Accuracy= 0.987\n",
      "Step 410, Loss= 0.0568, Training Accuracy= 0.987\n",
      "Step 420, Loss= 0.0562, Training Accuracy= 0.987\n",
      "Step 430, Loss= 0.0556, Training Accuracy= 0.987\n",
      "Step 440, Loss= 0.0551, Training Accuracy= 0.987\n",
      "Step 450, Loss= 0.0545, Training Accuracy= 0.987\n",
      "Step 460, Loss= 0.0540, Training Accuracy= 0.987\n",
      "Step 470, Loss= 0.0534, Training Accuracy= 0.985\n",
      "Step 480, Loss= 0.0529, Training Accuracy= 0.985\n",
      "Step 490, Loss= 0.0524, Training Accuracy= 0.985\n",
      "Step 500, Loss= 0.0519, Training Accuracy= 0.985\n",
      "Step 510, Loss= 0.0514, Training Accuracy= 0.985\n",
      "Step 520, Loss= 0.0509, Training Accuracy= 0.985\n",
      "Step 530, Loss= 0.0505, Training Accuracy= 0.982\n",
      "Step 540, Loss= 0.0500, Training Accuracy= 0.982\n",
      "Step 550, Loss= 0.0495, Training Accuracy= 0.982\n",
      "Step 560, Loss= 0.0491, Training Accuracy= 0.982\n",
      "Step 570, Loss= 0.0486, Training Accuracy= 0.982\n",
      "Step 580, Loss= 0.0482, Training Accuracy= 0.982\n",
      "Step 590, Loss= 0.0477, Training Accuracy= 0.982\n",
      "Step 600, Loss= 0.0473, Training Accuracy= 0.982\n",
      "Step 610, Loss= 0.0469, Training Accuracy= 0.982\n",
      "Step 620, Loss= 0.0465, Training Accuracy= 0.982\n",
      "Step 630, Loss= 0.0461, Training Accuracy= 0.982\n",
      "Step 640, Loss= 0.0457, Training Accuracy= 0.982\n",
      "Step 650, Loss= 0.0453, Training Accuracy= 0.985\n",
      "Step 660, Loss= 0.0449, Training Accuracy= 0.985\n",
      "Step 670, Loss= 0.0445, Training Accuracy= 0.982\n",
      "Step 680, Loss= 0.0441, Training Accuracy= 0.982\n",
      "Step 690, Loss= 0.0437, Training Accuracy= 0.985\n",
      "Step 700, Loss= 0.0433, Training Accuracy= 0.985\n",
      "Step 710, Loss= 0.0430, Training Accuracy= 0.985\n",
      "Step 720, Loss= 0.0426, Training Accuracy= 0.985\n",
      "Step 730, Loss= 0.0422, Training Accuracy= 0.985\n",
      "Step 740, Loss= 0.0419, Training Accuracy= 0.987\n",
      "Step 750, Loss= 0.0416, Training Accuracy= 0.987\n",
      "Step 760, Loss= 0.0412, Training Accuracy= 0.987\n",
      "Step 770, Loss= 0.0409, Training Accuracy= 0.987\n",
      "Step 780, Loss= 0.0406, Training Accuracy= 0.987\n",
      "Step 790, Loss= 0.0403, Training Accuracy= 0.987\n",
      "Step 800, Loss= 0.0400, Training Accuracy= 0.987\n",
      "Step 810, Loss= 0.0397, Training Accuracy= 0.987\n",
      "Step 820, Loss= 0.0395, Training Accuracy= 0.987\n",
      "Step 830, Loss= 0.0392, Training Accuracy= 0.987\n",
      "Step 840, Loss= 0.0389, Training Accuracy= 0.987\n",
      "Step 850, Loss= 0.0387, Training Accuracy= 0.987\n",
      "Step 860, Loss= 0.0384, Training Accuracy= 0.987\n",
      "Step 870, Loss= 0.0382, Training Accuracy= 0.987\n",
      "Step 880, Loss= 0.0380, Training Accuracy= 0.987\n",
      "Step 890, Loss= 0.0377, Training Accuracy= 0.987\n",
      "Step 900, Loss= 0.0375, Training Accuracy= 0.987\n",
      "Step 910, Loss= 0.0373, Training Accuracy= 0.987\n",
      "Step 920, Loss= 0.0371, Training Accuracy= 0.987\n",
      "Step 930, Loss= 0.0369, Training Accuracy= 0.987\n",
      "Step 940, Loss= 0.0367, Training Accuracy= 0.987\n",
      "Step 950, Loss= 0.0365, Training Accuracy= 0.987\n",
      "Step 960, Loss= 0.0363, Training Accuracy= 0.987\n",
      "Step 970, Loss= 0.0361, Training Accuracy= 0.987\n",
      "Step 980, Loss= 0.0359, Training Accuracy= 0.987\n",
      "Step 990, Loss= 0.0357, Training Accuracy= 0.987\n",
      "Optimization Finished!\n",
      "Testing Accuracy: 0.98245615\n"
     ]
    }
   ],
   "source": [
    "# Start training\n",
    "with tf.Session() as sess:\n",
    "    # Run the initializer\n",
    "    sess.run(init)\n",
    "    saver = tf.train.Saver()\n",
    "    history = []\n",
    "    \n",
    "\n",
    "    for step in range(num_epochs):\n",
    "        sess.run(optimizer, feed_dict={X: X_train, y: y_train}) # we feed the real data into placeholder\n",
    "        if step % display_step == 0 or step == 1:\n",
    "            # Calculate batch loss and accuracy\n",
    "            loss, acc = sess.run([cost, accuracy], feed_dict={X: X_train,\n",
    "                                                                 y: y_train})\n",
    "            test_loss, test_acc = sess.run([cost, accuracy], feed_dict={X: X_test,\n",
    "                                                                 y: y_test})\n",
    "            history += [[step] + [loss] + [acc] + [test_loss] + [test_acc]]\n",
    "            # print debugging information\n",
    "            print(\"Step \" + str(step) + \", Loss= \" + \\\n",
    "                  \"{:.4f}\".format(loss) + \", Training Accuracy= \" + \\\n",
    "                  \"{:.3f}\".format(acc))\n",
    "    saver.save(sess, trained_params_path)\n",
    "    print(\"Optimization Finished!\")\n",
    "\n",
    "    # Calculate accuracy for test\n",
    "    print(\"Testing Accuracy:\", \\\n",
    "        sess.run(accuracy, feed_dict={X: X_test,\n",
    "                                      y: y_test}))"
   ]
  },
  {
   "cell_type": "code",
   "execution_count": 10,
   "metadata": {},
   "outputs": [],
   "source": [
    "history = pd.DataFrame(history, columns=['Step','Train_Loss','Train_Accuracy','Test_Loss','Test_Accuracy'])"
   ]
  },
  {
   "cell_type": "code",
   "execution_count": 11,
   "metadata": {},
   "outputs": [
    {
     "data": {
      "text/html": [
       "<div>\n",
       "<style scoped>\n",
       "    .dataframe tbody tr th:only-of-type {\n",
       "        vertical-align: middle;\n",
       "    }\n",
       "\n",
       "    .dataframe tbody tr th {\n",
       "        vertical-align: top;\n",
       "    }\n",
       "\n",
       "    .dataframe thead th {\n",
       "        text-align: right;\n",
       "    }\n",
       "</style>\n",
       "<table border=\"1\" class=\"dataframe\">\n",
       "  <thead>\n",
       "    <tr style=\"text-align: right;\">\n",
       "      <th></th>\n",
       "      <th>Step</th>\n",
       "      <th>Train_Loss</th>\n",
       "      <th>Train_Accuracy</th>\n",
       "      <th>Test_Loss</th>\n",
       "      <th>Test_Accuracy</th>\n",
       "    </tr>\n",
       "  </thead>\n",
       "  <tbody>\n",
       "    <tr>\n",
       "      <th>0</th>\n",
       "      <td>0</td>\n",
       "      <td>5.912087</td>\n",
       "      <td>0.782418</td>\n",
       "      <td>5.197701</td>\n",
       "      <td>0.789474</td>\n",
       "    </tr>\n",
       "    <tr>\n",
       "      <th>1</th>\n",
       "      <td>1</td>\n",
       "      <td>5.475602</td>\n",
       "      <td>0.786813</td>\n",
       "      <td>4.797358</td>\n",
       "      <td>0.798246</td>\n",
       "    </tr>\n",
       "    <tr>\n",
       "      <th>2</th>\n",
       "      <td>10</td>\n",
       "      <td>2.696727</td>\n",
       "      <td>0.841758</td>\n",
       "      <td>2.463651</td>\n",
       "      <td>0.859649</td>\n",
       "    </tr>\n",
       "    <tr>\n",
       "      <th>3</th>\n",
       "      <td>20</td>\n",
       "      <td>1.218202</td>\n",
       "      <td>0.894506</td>\n",
       "      <td>1.504209</td>\n",
       "      <td>0.921053</td>\n",
       "    </tr>\n",
       "    <tr>\n",
       "      <th>4</th>\n",
       "      <td>30</td>\n",
       "      <td>0.588240</td>\n",
       "      <td>0.929670</td>\n",
       "      <td>0.868109</td>\n",
       "      <td>0.938596</td>\n",
       "    </tr>\n",
       "  </tbody>\n",
       "</table>\n",
       "</div>"
      ],
      "text/plain": [
       "   Step  Train_Loss  Train_Accuracy  Test_Loss  Test_Accuracy\n",
       "0     0    5.912087        0.782418   5.197701       0.789474\n",
       "1     1    5.475602        0.786813   4.797358       0.798246\n",
       "2    10    2.696727        0.841758   2.463651       0.859649\n",
       "3    20    1.218202        0.894506   1.504209       0.921053\n",
       "4    30    0.588240        0.929670   0.868109       0.938596"
      ]
     },
     "execution_count": 11,
     "metadata": {},
     "output_type": "execute_result"
    }
   ],
   "source": [
    "history.head()"
   ]
  },
  {
   "cell_type": "code",
   "execution_count": 12,
   "metadata": {},
   "outputs": [
    {
     "data": {
      "image/png": "[encoded data removed]",
      "text/plain": [
       "<Figure size 432x288 with 1 Axes>"
      ]
     },
     "metadata": {},
     "output_type": "display_data"
    }
   ],
   "source": [
    "plt.figure()\n",
    "plt.plot(history.Step, history.Train_Loss)\n",
    "plt.plot(history.Step, history.Test_Loss)\n",
    "plt.legend()\n",
    "plt.show()"
   ]
  },
  {
   "cell_type": "code",
   "execution_count": 13,
   "metadata": {},
   "outputs": [
    {
     "data": {
      "image/png": "[encoded data removed]",
      "text/plain": [
       "<Figure size 432x288 with 1 Axes>"
      ]
     },
     "metadata": {},
     "output_type": "display_data"
    }
   ],
   "source": [
    "plt.figure()\n",
    "plt.plot(history.Step, history.Train_Accuracy)\n",
    "plt.plot(history.Step, history.Test_Accuracy)\n",
    "plt.legend()\n",
    "plt.show()"
   ]
  },
  {
   "cell_type": "code",
   "execution_count": 14,
   "metadata": {},
   "outputs": [],
   "source": [
    "def predict(x_new, trained_params_path):\n",
    "    with tf.Session() as sess:\n",
    "        saver = tf.train.Saver()\n",
    "        saver.restore(sess, trained_params_path)\n",
    "        pr = output.eval(feed_dict={X: x_new})\n",
    "        return pr"
   ]
  },
  {
   "cell_type": "code",
   "execution_count": 15,
   "metadata": {},
   "outputs": [
    {
     "name": "stdout",
     "output_type": "stream",
     "text": [
      "INFO:tensorflow:Restoring parameters from ./ML_HW9\n",
      "(114, 2)\n"
     ]
    },
    {
     "data": {
      "image/png": "[encoded data removed]",
      "text/plain": [
       "<Figure size 432x288 with 1 Axes>"
      ]
     },
     "metadata": {},
     "output_type": "display_data"
    }
   ],
   "source": [
    "z = predict(X_test, trained_params_path)\n",
    "print(z.shape)\n",
    "# blue for class 0, orange for class 1\n",
    "color = ['blue' if y[0] == 0 else 'orange' for y in y_test]\n",
    "plt.figure()\n",
    "plt.scatter(range(y_test.shape[0]), z[:,1], color=color)\n",
    "plt.title('Probability of class 1')\n",
    "plt.show()"
   ]
  },
  {
   "cell_type": "code",
   "execution_count": null,
   "metadata": {},
   "outputs": [],
   "source": []
  },
  {
   "cell_type": "code",
   "execution_count": null,
   "metadata": {},
   "outputs": [],
   "source": []
  },
  {
   "cell_type": "code",
   "execution_count": null,
   "metadata": {},
   "outputs": [],
   "source": []
  }
 ],
 "metadata": {
  "kernelspec": {
   "display_name": "Python 3",
   "language": "python",
   "name": "python3"
  },
  "language_info": {
   "codemirror_mode": {
    "name": "ipython",
    "version": 3
   },
   "file_extension": ".py",
   "mimetype": "text/x-python",
   "name": "python",
   "nbconvert_exporter": "python",
   "pygments_lexer": "ipython3",
   "version": "3.5.5"
  }
 },
 "nbformat": 4,
 "nbformat_minor": 2
}
