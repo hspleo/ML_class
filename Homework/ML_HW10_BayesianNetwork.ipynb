{
 "cells": [
  {
   "cell_type": "markdown",
   "metadata": {},
   "source": [
    "# Question 1"
   ]
  },
  {
   "cell_type": "markdown",
   "metadata": {},
   "source": [
    "This is a very simple toy model of a Bayesian network. I'm not sure if this can meet the assignment's requirements..."
   ]
  },
  {
   "cell_type": "markdown",
   "metadata": {},
   "source": [
    "The weather can be snow or not. The probabilities of traffic jam and slip are dependent on if it snows or not. And the probability of being late for school is dependent on traffic jam and slip. At last, slip can somehow lead to fracture..."
   ]
  },
  {
   "cell_type": "markdown",
   "metadata": {},
   "source": [
    "![image.png](image.png)"
   ]
  },
  {
   "cell_type": "code",
   "execution_count": 1,
   "metadata": {},
   "outputs": [],
   "source": [
    "import math\n",
    "from pomegranate import *"
   ]
  },
  {
   "cell_type": "code",
   "execution_count": 2,
   "metadata": {},
   "outputs": [],
   "source": [
    "snow = DiscreteDistribution( { 'True' : 0.5, 'False' : 0.5 } )\n",
    "\n",
    "traffic = ConditionalProbabilityTable(\n",
    "    [[ 'True', 'True', 0.8 ],\n",
    "     [ 'True', 'False', 0.2 ],\n",
    "     [ 'False', 'True', 0.1 ],\n",
    "     [ 'False', 'False', 0.9 ]], [snow])\n",
    "\n",
    "slip = ConditionalProbabilityTable(\n",
    "    [[ 'True', 'True', 0.7 ],\n",
    "     [ 'True', 'False', 0.3 ],\n",
    "     [ 'False', 'True', 0.01 ],\n",
    "     [ 'False', 'False', 0.99 ]], [snow])"
   ]
  },
  {
   "cell_type": "code",
   "execution_count": 3,
   "metadata": {},
   "outputs": [],
   "source": [
    "late = ConditionalProbabilityTable(\n",
    "    [[ 'True', 'True', 'True', 0.9 ],\n",
    "     [ 'True', 'True', 'False', 0.1 ],\n",
    "     [ 'True', 'False', 'True', 0.8 ],\n",
    "     [ 'True', 'False', 'False', 0.2 ],\n",
    "     [ 'False', 'True', 'True', 0.4 ],\n",
    "     [ 'False', 'True', 'False', 0.6 ],\n",
    "     [ 'False', 'False', 'True', 0.0 ],\n",
    "     [ 'False', 'False', 'False', 1.0 ]], [traffic, slip] )"
   ]
  },
  {
   "cell_type": "code",
   "execution_count": 4,
   "metadata": {},
   "outputs": [],
   "source": [
    "fracture = ConditionalProbabilityTable(\n",
    "    [[ 'True', 'True', 0.1 ],\n",
    "     [ 'True', 'False', 0.9 ],\n",
    "     [ 'False', 'True', 0.0 ],\n",
    "     [ 'False', 'False', 1.0 ]], [slip])"
   ]
  },
  {
   "cell_type": "code",
   "execution_count": 5,
   "metadata": {},
   "outputs": [],
   "source": [
    "s0 = State( snow, name=\"snow\" )\n",
    "s1 = State( traffic, name=\"traffic\" )\n",
    "s2 = State( slip, name=\"slip\" )\n",
    "s3 = State( late, name=\"late\" )\n",
    "s4 = State( fracture, name=\"fracture\" )"
   ]
  },
  {
   "cell_type": "code",
   "execution_count": 6,
   "metadata": {},
   "outputs": [],
   "source": [
    "network = BayesianNetwork( \"snow\" )\n",
    "network.add_nodes( s0, s1, s2, s3, s4 )"
   ]
  },
  {
   "cell_type": "code",
   "execution_count": 7,
   "metadata": {},
   "outputs": [],
   "source": [
    "network.add_edge( s0, s1 )\n",
    "network.add_edge( s0, s2 )\n",
    "network.add_edge( s1, s3 )\n",
    "network.add_edge( s2, s3 )\n",
    "network.add_edge( s2, s4 )"
   ]
  },
  {
   "cell_type": "code",
   "execution_count": 8,
   "metadata": {},
   "outputs": [],
   "source": [
    "network.bake()"
   ]
  },
  {
   "cell_type": "markdown",
   "metadata": {},
   "source": [
    "We can see if the result is late, what are the probabilities of other events."
   ]
  },
  {
   "cell_type": "code",
   "execution_count": 9,
   "metadata": {},
   "outputs": [
    {
     "name": "stdout",
     "output_type": "stream",
     "text": [
      "snow\t\t{\n",
      "    \"class\" :\"Distribution\",\n",
      "    \"name\" :\"DiscreteDistribution\",\n",
      "    \"parameters\" :[\n",
      "        {\n",
      "            \"True\" :0.7912117215160157,\n",
      "            \"False\" :0.20878827848398435\n",
      "        }\n",
      "    ],\n",
      "    \"frozen\" :false\n",
      "}\n",
      "traffic\t\t{\n",
      "    \"class\" :\"Distribution\",\n",
      "    \"name\" :\"DiscreteDistribution\",\n",
      "    \"parameters\" :[\n",
      "        {\n",
      "            \"True\" :0.8122148712647398,\n",
      "            \"False\" :0.18778512873526004\n",
      "        }\n",
      "    ],\n",
      "    \"frozen\" :false\n",
      "}\n",
      "slip\t\t{\n",
      "    \"class\" :\"Distribution\",\n",
      "    \"name\" :\"DiscreteDistribution\",\n",
      "    \"parameters\" :[\n",
      "        {\n",
      "            \"True\" :0.6278054734709474,\n",
      "            \"False\" :0.37219452652905266\n",
      "        }\n",
      "    ],\n",
      "    \"frozen\" :false\n",
      "}\n",
      "late\t\tTrue\n",
      "fracture\t\t{\n",
      "    \"class\" :\"Distribution\",\n",
      "    \"name\" :\"DiscreteDistribution\",\n",
      "    \"parameters\" :[\n",
      "        {\n",
      "            \"True\" :0.06278054734709472,\n",
      "            \"False\" :0.9372194526529054\n",
      "        }\n",
      "    ],\n",
      "    \"frozen\" :false\n",
      "}\n"
     ]
    }
   ],
   "source": [
    "observations = { 'late' : 'True'}\n",
    "beliefs = map( str, network.predict_proba( observations ) )\n",
    "print (\"\\n\".join( \"{}\\t\\t{}\".format( state.name, belief ) for state, belief in zip( network.states, beliefs ) ))"
   ]
  },
  {
   "cell_type": "code",
   "execution_count": null,
   "metadata": {},
   "outputs": [],
   "source": []
  },
  {
   "cell_type": "markdown",
   "metadata": {},
   "source": [
    "# Question 2"
   ]
  },
  {
   "cell_type": "markdown",
   "metadata": {},
   "source": [
    "First, build a normal Monty Hall Problem."
   ]
  },
  {
   "cell_type": "code",
   "execution_count": 10,
   "metadata": {},
   "outputs": [],
   "source": [
    "guest = DiscreteDistribution( { 'A': 1./3, 'B': 1./3, 'C': 1./3 } )\n",
    "prize = DiscreteDistribution( { 'A': 1./3, 'B': 1./3, 'C': 1./3 } )"
   ]
  },
  {
   "cell_type": "code",
   "execution_count": 11,
   "metadata": {},
   "outputs": [],
   "source": [
    "monty = ConditionalProbabilityTable(\n",
    "    [[ 'A', 'A', 'A', 0.0 ],\n",
    "     [ 'A', 'A', 'B', 0.5 ],\n",
    "     [ 'A', 'A', 'C', 0.5 ],\n",
    "     [ 'A', 'B', 'A', 0.0 ],\n",
    "     [ 'A', 'B', 'B', 0.0 ],\n",
    "     [ 'A', 'B', 'C', 1.0 ],\n",
    "     [ 'A', 'C', 'A', 0.0 ],\n",
    "     [ 'A', 'C', 'B', 1.0 ],\n",
    "     [ 'A', 'C', 'C', 0.0 ],\n",
    "     [ 'B', 'A', 'A', 0.0 ],\n",
    "     [ 'B', 'A', 'B', 0.0 ],\n",
    "     [ 'B', 'A', 'C', 1.0 ],\n",
    "     [ 'B', 'B', 'A', 0.5 ],\n",
    "     [ 'B', 'B', 'B', 0.0 ],\n",
    "     [ 'B', 'B', 'C', 0.5 ],\n",
    "     [ 'B', 'C', 'A', 1.0 ],\n",
    "     [ 'B', 'C', 'B', 0.0 ],\n",
    "     [ 'B', 'C', 'C', 0.0 ],\n",
    "     [ 'C', 'A', 'A', 0.0 ],\n",
    "     [ 'C', 'A', 'B', 1.0 ],\n",
    "     [ 'C', 'A', 'C', 0.0 ],\n",
    "     [ 'C', 'B', 'A', 1.0 ],\n",
    "     [ 'C', 'B', 'B', 0.0 ],\n",
    "     [ 'C', 'B', 'C', 0.0 ],\n",
    "     [ 'C', 'C', 'A', 0.5 ],\n",
    "     [ 'C', 'C', 'B', 0.5 ],\n",
    "     [ 'C', 'C', 'C', 0.0 ]], [guest, prize] )"
   ]
  },
  {
   "cell_type": "code",
   "execution_count": 12,
   "metadata": {},
   "outputs": [],
   "source": [
    "s1 = State( guest, name=\"guest\")\n",
    "s2 = State( prize, name=\"prize\" )\n",
    "s3 = State( monty, name=\"monty\" )"
   ]
  },
  {
   "cell_type": "code",
   "execution_count": 13,
   "metadata": {},
   "outputs": [],
   "source": [
    "network = BayesianNetwork( \"test\" )\n",
    "network.add_nodes( s1, s2, s3 )"
   ]
  },
  {
   "cell_type": "code",
   "execution_count": 14,
   "metadata": {},
   "outputs": [],
   "source": [
    "network.add_transition( s1, s3 )\n",
    "network.add_transition( s2, s3 )"
   ]
  },
  {
   "cell_type": "code",
   "execution_count": 15,
   "metadata": {},
   "outputs": [],
   "source": [
    "network.bake()"
   ]
  },
  {
   "cell_type": "code",
   "execution_count": 16,
   "metadata": {},
   "outputs": [
    {
     "name": "stdout",
     "output_type": "stream",
     "text": [
      "guest\tprize\tmonty\n"
     ]
    }
   ],
   "source": [
    "print (\"\\t\".join([ state.name for state in network.states ]))"
   ]
  },
  {
   "cell_type": "code",
   "execution_count": 17,
   "metadata": {},
   "outputs": [
    {
     "name": "stdout",
     "output_type": "stream",
     "text": [
      "guest\tA\n",
      "prize\t{\n",
      "    \"class\" :\"Distribution\",\n",
      "    \"name\" :\"DiscreteDistribution\",\n",
      "    \"parameters\" :[\n",
      "        {\n",
      "            \"A\" :0.3333333333333333,\n",
      "            \"B\" :0.3333333333333333,\n",
      "            \"C\" :0.3333333333333333\n",
      "        }\n",
      "    ],\n",
      "    \"frozen\" :false\n",
      "}\n",
      "monty\t{\n",
      "    \"class\" :\"Distribution\",\n",
      "    \"name\" :\"DiscreteDistribution\",\n",
      "    \"parameters\" :[\n",
      "        {\n",
      "            \"C\" :0.49999999999999983,\n",
      "            \"A\" :0.0,\n",
      "            \"B\" :0.49999999999999983\n",
      "        }\n",
      "    ],\n",
      "    \"frozen\" :false\n",
      "}\n"
     ]
    }
   ],
   "source": [
    "observations = { 'guest' : 'A' }\n",
    "beliefs = map( str, network.predict_proba( observations ) )\n",
    "print (\"\\n\".join( \"{}\\t{}\".format( state.name, belief ) for state, belief in zip( network.states, beliefs ) ))"
   ]
  },
  {
   "cell_type": "code",
   "execution_count": 18,
   "metadata": {},
   "outputs": [
    {
     "name": "stdout",
     "output_type": "stream",
     "text": [
      "guest\tA\n",
      "prize\t{\n",
      "    \"class\" :\"Distribution\",\n",
      "    \"name\" :\"DiscreteDistribution\",\n",
      "    \"parameters\" :[\n",
      "        {\n",
      "            \"A\" :0.3333333333333334,\n",
      "            \"B\" :0.0,\n",
      "            \"C\" :0.6666666666666664\n",
      "        }\n",
      "    ],\n",
      "    \"frozen\" :false\n",
      "}\n",
      "monty\tB\n"
     ]
    }
   ],
   "source": [
    "observations  = { 'guest' : 'A', 'monty' : 'B' }\n",
    "beliefs = map( str, network.predict_proba( observations ) )\n",
    "print (\"\\n\".join( \"{}\\t{}\".format( state.name, belief ) for state, belief in zip( network.states, beliefs ) ))"
   ]
  },
  {
   "cell_type": "code",
   "execution_count": null,
   "metadata": {},
   "outputs": [],
   "source": []
  },
  {
   "cell_type": "markdown",
   "metadata": {},
   "source": [
    "We can see that if we change the door, the probability is 2/3."
   ]
  },
  {
   "cell_type": "markdown",
   "metadata": {},
   "source": [
    "Next, if we want there is no incentive to change the door, basically it means Monty gives no more useful information.\n",
    "\n",
    "So, a straightforward stupid way is suppose Monty just randomly select a remaining door...Of course there would no incentive to change your choice..."
   ]
  },
  {
   "cell_type": "code",
   "execution_count": 19,
   "metadata": {},
   "outputs": [
    {
     "data": {
      "text/plain": [
       "{\n",
       "    \"class\" : \"BayesianNetwork\",\n",
       "    \"name\" : \"test\",\n",
       "    \"structure\" : [\n",
       "        [],\n",
       "        [],\n",
       "        [\n",
       "            0,\n",
       "            1\n",
       "        ]\n",
       "    ],\n",
       "    \"states\" : [\n",
       "        {\n",
       "            \"class\" : \"State\",\n",
       "            \"distribution\" : {\n",
       "                \"class\" : \"Distribution\",\n",
       "                \"name\" : \"DiscreteDistribution\",\n",
       "                \"parameters\" : [\n",
       "                    {\n",
       "                        \"A\" : 0.3333333333333333,\n",
       "                        \"B\" : 0.3333333333333333,\n",
       "                        \"C\" : 0.3333333333333333\n",
       "                    }\n",
       "                ],\n",
       "                \"frozen\" : false\n",
       "            },\n",
       "            \"name\" : \"guest\",\n",
       "            \"weight\" : 1.0\n",
       "        },\n",
       "        {\n",
       "            \"class\" : \"State\",\n",
       "            \"distribution\" : {\n",
       "                \"class\" : \"Distribution\",\n",
       "                \"name\" : \"DiscreteDistribution\",\n",
       "                \"parameters\" : [\n",
       "                    {\n",
       "                        \"A\" : 0.3333333333333333,\n",
       "                        \"B\" : 0.3333333333333333,\n",
       "                        \"C\" : 0.3333333333333333\n",
       "                    }\n",
       "                ],\n",
       "                \"frozen\" : false\n",
       "            },\n",
       "            \"name\" : \"prize\",\n",
       "            \"weight\" : 1.0\n",
       "        },\n",
       "        {\n",
       "            \"class\" : \"State\",\n",
       "            \"distribution\" : {\n",
       "                \"class\" : \"Distribution\",\n",
       "                \"name\" : \"ConditionalProbabilityTable\",\n",
       "                \"table\" : [\n",
       "                    [\n",
       "                        \"A\",\n",
       "                        \"A\",\n",
       "                        \"A\",\n",
       "                        \"0.0\"\n",
       "                    ],\n",
       "                    [\n",
       "                        \"A\",\n",
       "                        \"A\",\n",
       "                        \"B\",\n",
       "                        \"0.5\"\n",
       "                    ],\n",
       "                    [\n",
       "                        \"A\",\n",
       "                        \"A\",\n",
       "                        \"C\",\n",
       "                        \"0.5\"\n",
       "                    ],\n",
       "                    [\n",
       "                        \"A\",\n",
       "                        \"B\",\n",
       "                        \"A\",\n",
       "                        \"0.0\"\n",
       "                    ],\n",
       "                    [\n",
       "                        \"A\",\n",
       "                        \"B\",\n",
       "                        \"B\",\n",
       "                        \"0.5\"\n",
       "                    ],\n",
       "                    [\n",
       "                        \"A\",\n",
       "                        \"B\",\n",
       "                        \"C\",\n",
       "                        \"0.5\"\n",
       "                    ],\n",
       "                    [\n",
       "                        \"A\",\n",
       "                        \"C\",\n",
       "                        \"A\",\n",
       "                        \"0.0\"\n",
       "                    ],\n",
       "                    [\n",
       "                        \"A\",\n",
       "                        \"C\",\n",
       "                        \"B\",\n",
       "                        \"0.5\"\n",
       "                    ],\n",
       "                    [\n",
       "                        \"A\",\n",
       "                        \"C\",\n",
       "                        \"C\",\n",
       "                        \"0.5\"\n",
       "                    ],\n",
       "                    [\n",
       "                        \"B\",\n",
       "                        \"A\",\n",
       "                        \"A\",\n",
       "                        \"0.5\"\n",
       "                    ],\n",
       "                    [\n",
       "                        \"B\",\n",
       "                        \"A\",\n",
       "                        \"B\",\n",
       "                        \"0.0\"\n",
       "                    ],\n",
       "                    [\n",
       "                        \"B\",\n",
       "                        \"A\",\n",
       "                        \"C\",\n",
       "                        \"0.5\"\n",
       "                    ],\n",
       "                    [\n",
       "                        \"B\",\n",
       "                        \"B\",\n",
       "                        \"A\",\n",
       "                        \"0.5\"\n",
       "                    ],\n",
       "                    [\n",
       "                        \"B\",\n",
       "                        \"B\",\n",
       "                        \"B\",\n",
       "                        \"0.0\"\n",
       "                    ],\n",
       "                    [\n",
       "                        \"B\",\n",
       "                        \"B\",\n",
       "                        \"C\",\n",
       "                        \"0.5\"\n",
       "                    ],\n",
       "                    [\n",
       "                        \"B\",\n",
       "                        \"C\",\n",
       "                        \"A\",\n",
       "                        \"0.5\"\n",
       "                    ],\n",
       "                    [\n",
       "                        \"B\",\n",
       "                        \"C\",\n",
       "                        \"B\",\n",
       "                        \"0.0\"\n",
       "                    ],\n",
       "                    [\n",
       "                        \"B\",\n",
       "                        \"C\",\n",
       "                        \"C\",\n",
       "                        \"0.5\"\n",
       "                    ],\n",
       "                    [\n",
       "                        \"C\",\n",
       "                        \"A\",\n",
       "                        \"A\",\n",
       "                        \"0.5\"\n",
       "                    ],\n",
       "                    [\n",
       "                        \"C\",\n",
       "                        \"A\",\n",
       "                        \"B\",\n",
       "                        \"0.5\"\n",
       "                    ],\n",
       "                    [\n",
       "                        \"C\",\n",
       "                        \"A\",\n",
       "                        \"C\",\n",
       "                        \"0.0\"\n",
       "                    ],\n",
       "                    [\n",
       "                        \"C\",\n",
       "                        \"B\",\n",
       "                        \"A\",\n",
       "                        \"0.5\"\n",
       "                    ],\n",
       "                    [\n",
       "                        \"C\",\n",
       "                        \"B\",\n",
       "                        \"B\",\n",
       "                        \"0.5\"\n",
       "                    ],\n",
       "                    [\n",
       "                        \"C\",\n",
       "                        \"B\",\n",
       "                        \"C\",\n",
       "                        \"0.0\"\n",
       "                    ],\n",
       "                    [\n",
       "                        \"C\",\n",
       "                        \"C\",\n",
       "                        \"A\",\n",
       "                        \"0.5\"\n",
       "                    ],\n",
       "                    [\n",
       "                        \"C\",\n",
       "                        \"C\",\n",
       "                        \"B\",\n",
       "                        \"0.5\"\n",
       "                    ],\n",
       "                    [\n",
       "                        \"C\",\n",
       "                        \"C\",\n",
       "                        \"C\",\n",
       "                        \"0.0\"\n",
       "                    ]\n",
       "                ],\n",
       "                \"parents\" : [\n",
       "                    {\n",
       "                        \"class\" : \"Distribution\",\n",
       "                        \"name\" : \"DiscreteDistribution\",\n",
       "                        \"parameters\" : [\n",
       "                            {\n",
       "                                \"A\" : 0.3333333333333333,\n",
       "                                \"B\" : 0.3333333333333333,\n",
       "                                \"C\" : 0.3333333333333333\n",
       "                            }\n",
       "                        ],\n",
       "                        \"frozen\" : false\n",
       "                    },\n",
       "                    {\n",
       "                        \"class\" : \"Distribution\",\n",
       "                        \"name\" : \"DiscreteDistribution\",\n",
       "                        \"parameters\" : [\n",
       "                            {\n",
       "                                \"A\" : 0.3333333333333333,\n",
       "                                \"B\" : 0.3333333333333333,\n",
       "                                \"C\" : 0.3333333333333333\n",
       "                            }\n",
       "                        ],\n",
       "                        \"frozen\" : false\n",
       "                    }\n",
       "                ]\n",
       "            },\n",
       "            \"name\" : \"monty\",\n",
       "            \"weight\" : 1.0\n",
       "        }\n",
       "    ]\n",
       "}"
      ]
     },
     "execution_count": 19,
     "metadata": {},
     "output_type": "execute_result"
    }
   ],
   "source": [
    "data = [[ 'A', 'A', 'B' ],\n",
    "        [ 'A', 'A', 'C' ],\n",
    "        [ 'A', 'B', 'B' ],\n",
    "        [ 'A', 'B', 'C' ],\n",
    "        [ 'A', 'C', 'B' ],\n",
    "        [ 'A', 'C', 'C' ],\n",
    "        [ 'B', 'A', 'A' ],\n",
    "        [ 'B', 'A', 'C' ],\n",
    "        [ 'B', 'B', 'A' ],\n",
    "        [ 'B', 'B', 'C' ],\n",
    "        [ 'B', 'C', 'A' ],\n",
    "        [ 'B', 'C', 'C' ],\n",
    "        [ 'C', 'A', 'A' ],\n",
    "        [ 'C', 'A', 'B' ],\n",
    "        [ 'C', 'B', 'A' ],\n",
    "        [ 'C', 'B', 'B' ],\n",
    "        [ 'C', 'C', 'A' ],\n",
    "        [ 'C', 'C', 'B' ]]\n",
    "network.fit( data )"
   ]
  },
  {
   "cell_type": "code",
   "execution_count": 20,
   "metadata": {},
   "outputs": [
    {
     "name": "stdout",
     "output_type": "stream",
     "text": [
      "A\tA\tC\t0.5\n",
      "A\tA\tA\t0.0\n",
      "A\tA\tB\t0.5\n",
      "A\tB\tC\t0.5\n",
      "A\tB\tA\t0.0\n",
      "A\tB\tB\t0.5\n",
      "A\tC\tC\t0.5\n",
      "A\tC\tA\t0.0\n",
      "A\tC\tB\t0.5\n",
      "B\tA\tC\t0.5\n",
      "B\tA\tA\t0.5\n",
      "B\tA\tB\t0.0\n",
      "B\tB\tC\t0.5\n",
      "B\tB\tA\t0.5\n",
      "B\tB\tB\t0.0\n",
      "B\tC\tC\t0.5\n",
      "B\tC\tA\t0.5\n",
      "B\tC\tB\t0.0\n",
      "C\tA\tC\t0.0\n",
      "C\tA\tA\t0.5\n",
      "C\tA\tB\t0.5\n",
      "C\tB\tC\t0.0\n",
      "C\tB\tA\t0.5\n",
      "C\tB\tB\t0.5\n",
      "C\tC\tC\t0.0\n",
      "C\tC\tA\t0.5\n",
      "C\tC\tB\t0.5\n"
     ]
    }
   ],
   "source": [
    "print(monty)"
   ]
  },
  {
   "cell_type": "code",
   "execution_count": 21,
   "metadata": {},
   "outputs": [
    {
     "name": "stdout",
     "output_type": "stream",
     "text": [
      "guest\tA\n",
      "prize\t{\n",
      "    \"class\" :\"Distribution\",\n",
      "    \"name\" :\"DiscreteDistribution\",\n",
      "    \"parameters\" :[\n",
      "        {\n",
      "            \"A\" :0.3333333333333333,\n",
      "            \"B\" :0.3333333333333333,\n",
      "            \"C\" :0.3333333333333333\n",
      "        }\n",
      "    ],\n",
      "    \"frozen\" :false\n",
      "}\n",
      "monty\tB\n"
     ]
    }
   ],
   "source": [
    "observations  = { 'guest' : 'A', 'monty' : 'B' }\n",
    "beliefs = map( str, network.predict_proba( observations ) )\n",
    "print (\"\\n\".join( \"{}\\t{}\".format( state.name, belief ) for state, belief in zip( network.states, beliefs ) ))"
   ]
  },
  {
   "cell_type": "markdown",
   "metadata": {},
   "source": [
    "So the probabilities are all the same..."
   ]
  },
  {
   "cell_type": "code",
   "execution_count": null,
   "metadata": {},
   "outputs": [],
   "source": []
  },
  {
   "cell_type": "code",
   "execution_count": null,
   "metadata": {},
   "outputs": [],
   "source": []
  },
  {
   "cell_type": "code",
   "execution_count": null,
   "metadata": {},
   "outputs": [],
   "source": []
  }
 ],
 "metadata": {
  "kernelspec": {
   "display_name": "Python 3",
   "language": "python",
   "name": "python3"
  },
  "language_info": {
   "codemirror_mode": {
    "name": "ipython",
    "version": 3
   },
   "file_extension": ".py",
   "mimetype": "text/x-python",
   "name": "python",
   "nbconvert_exporter": "python",
   "pygments_lexer": "ipython3",
   "version": "3.6.5"
  }
 },
 "nbformat": 4,
 "nbformat_minor": 2
}
