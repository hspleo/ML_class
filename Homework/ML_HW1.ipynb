{
 "cells": [
  {
   "cell_type": "code",
   "execution_count": 7,
   "metadata": {},
   "outputs": [],
   "source": [
    "# -*- coding: utf-8 -*-\n",
    "from scipy import stats\n",
    "import statsmodels.api as sm\n",
    "import matplotlib.pyplot as plt\n",
    "import numpy as np\n",
    "from sklearn import linear_model\n",
    "from sklearn.metrics import mean_squared_error, r2_score"
   ]
  },
  {
   "cell_type": "markdown",
   "metadata": {},
   "source": [
    "# Question 1"
   ]
  },
  {
   "cell_type": "code",
   "execution_count": 2,
   "metadata": {},
   "outputs": [],
   "source": [
    "n = 500\n",
    "\n",
    "np.random.seed(6996)\n",
    "\n",
    "Epsilon_vector = np.random.randn(n).reshape(n,1)\n",
    "\n",
    "X_matrix = np.matrix(np.sqrt(2) * np.random.randn(n,n))\n",
    "\n",
    "slopesSet_vector = np.random.uniform(1, 5, size=n).reshape(n,1)\n",
    "\n",
    "Y = 1 + X_matrix[:,0:2] * slopesSet_vector[0:2] + Epsilon_vector\n",
    "\n",
    "for i in range(3,n+1):\n",
    "    y = 1 + X_matrix[:,0:i] * slopesSet_vector[0:i] + Epsilon_vector\n",
    "    Y = np.concatenate((Y,y),axis=1)"
   ]
  },
  {
   "cell_type": "code",
   "execution_count": 3,
   "metadata": {},
   "outputs": [
    {
     "data": {
      "text/plain": [
       "(500, 499)"
      ]
     },
     "execution_count": 3,
     "metadata": {},
     "output_type": "execute_result"
    }
   ],
   "source": [
    "Y.shape"
   ]
  },
  {
   "cell_type": "markdown",
   "metadata": {},
   "source": [
    "# Question 2"
   ]
  },
  {
   "cell_type": "code",
   "execution_count": 4,
   "metadata": {},
   "outputs": [
    {
     "data": {
      "image/png": "[encoded data removed]",
      "text/plain": [
       "<matplotlib.figure.Figure at 0x241470f97f0>"
      ]
     },
     "metadata": {},
     "output_type": "display_data"
    }
   ],
   "source": [
    "X_test=X_matrix[ :, 0 : 490]\n",
    "y_test=Y[ : , 488]\n",
    "\n",
    "\n",
    "X2 = sm.add_constant(X_test)\n",
    "est = sm.OLS(y_test, X2).fit()\n",
    "\n",
    "\n",
    "plt.figure()\n",
    "plt.plot(range(1,491),est.pvalues[1:491],'o')\n",
    "plt.ylim(0,0.1)\n",
    "plt.xlim(0,500)\n",
    "plt.show()"
   ]
  },
  {
   "cell_type": "markdown",
   "metadata": {},
   "source": [
    "# Question 3"
   ]
  },
  {
   "cell_type": "code",
   "execution_count": 5,
   "metadata": {},
   "outputs": [
    {
     "data": {
      "text/plain": [
       "[<matplotlib.lines.Line2D at 0x2414b29ec88>]"
      ]
     },
     "execution_count": 5,
     "metadata": {},
     "output_type": "execute_result"
    },
    {
     "data": {
      "image/png": "[encoded data removed]",
      "text/plain": [
       "<matplotlib.figure.Figure at 0x2414b1f8588>"
      ]
     },
     "metadata": {},
     "output_type": "display_data"
    }
   ],
   "source": [
    "R2 = []\n",
    "\n",
    "for j in range(2,501):\n",
    "    X_test=X_matrix[:,0:j]\n",
    "    y_test=Y[:,j-2]\n",
    "\n",
    "    regr = linear_model.LinearRegression()\n",
    "\n",
    "    regr.fit(X_test, y_test)\n",
    "\n",
    "    y_pred = regr.predict(X_test)\n",
    "\n",
    "    R2.append(r2_score(y_test, y_pred))\n",
    "\n",
    "plt.plot(range(2,501),R2)"
   ]
  },
  {
   "cell_type": "markdown",
   "metadata": {},
   "source": [
    "# Question 4"
   ]
  },
  {
   "cell_type": "code",
   "execution_count": 6,
   "metadata": {},
   "outputs": [
    {
     "name": "stderr",
     "output_type": "stream",
     "text": [
      "D:\\Anaconda3\\lib\\site-packages\\statsmodels\\regression\\linear_model.py:1353: RuntimeWarning: divide by zero encountered in double_scalars\n",
      "  return np.dot(wresid, wresid) / self.df_resid\n"
     ]
    },
    {
     "data": {
      "image/png": "[encoded data removed]",
      "text/plain": [
       "<matplotlib.figure.Figure at 0x2414b2a8470>"
      ]
     },
     "metadata": {},
     "output_type": "display_data"
    }
   ],
   "source": [
    "lower_bound = []\n",
    "upper_bound = []\n",
    "\n",
    "for p in range(2,501):\n",
    "    \n",
    "    X_test=X_matrix[:,0:p]\n",
    "    y_test=Y[:,p-2]\n",
    "    \n",
    "    temp_X = sm.add_constant(X_test)\n",
    "    est = sm.OLS(y_test, temp_X).fit()\n",
    "    \n",
    "    lower_bound.append(est.conf_int(0.05)[1][0])\n",
    "    upper_bound.append(est.conf_int(0.05)[1][1])  \n",
    "\n",
    "\n",
    "\n",
    "plt.plot(range(2,501),lower_bound,upper_bound)\n",
    "plt.ylim(0,4)\n",
    "plt.xlim(0,500)\n",
    "plt.show()"
   ]
  },
  {
   "cell_type": "code",
   "execution_count": null,
   "metadata": {},
   "outputs": [],
   "source": []
  }
 ],
 "metadata": {
  "kernelspec": {
   "display_name": "Python 3",
   "language": "python",
   "name": "python3"
  },
  "language_info": {
   "codemirror_mode": {
    "name": "ipython",
    "version": 3
   },
   "file_extension": ".py",
   "mimetype": "text/x-python",
   "name": "python",
   "nbconvert_exporter": "python",
   "pygments_lexer": "ipython3",
   "version": "3.6.4"
  }
 },
 "nbformat": 4,
 "nbformat_minor": 2
}
